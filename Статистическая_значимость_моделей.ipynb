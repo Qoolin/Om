{
  "nbformat": 4,
  "nbformat_minor": 0,
  "metadata": {
    "colab": {
      "provenance": [],
      "include_colab_link": true
    },
    "kernelspec": {
      "name": "python3",
      "display_name": "Python 3"
    }
  },
  "cells": [
    {
      "cell_type": "markdown",
      "metadata": {
        "id": "view-in-github",
        "colab_type": "text"
      },
      "source": [
        "<a href=\"https://colab.research.google.com/github/Qoolin/Om/blob/main/%D0%A1%D1%82%D0%B0%D1%82%D0%B8%D1%81%D1%82%D0%B8%D1%87%D0%B5%D1%81%D0%BA%D0%B0%D1%8F_%D0%B7%D0%BD%D0%B0%D1%87%D0%B8%D0%BC%D0%BE%D1%81%D1%82%D1%8C_%D0%BC%D0%BE%D0%B4%D0%B5%D0%BB%D0%B5%D0%B9.ipynb\" target=\"_parent\"><img src=\"https://colab.research.google.com/assets/colab-badge.svg\" alt=\"Open In Colab\"/></a>"
      ]
    },
    {
      "cell_type": "code",
      "metadata": {
        "id": "Hk3QweWmNPHR"
      },
      "source": [
        "from  sklearn import  datasets\n",
        "import numpy as np\n",
        "import pandas as pd\n",
        "import seaborn as sns\n",
        "import matplotlib.pyplot as plt\n",
        "from sklearn.model_selection import train_test_split\n",
        "\n",
        "from sklearn.ensemble import RandomForestClassifier\n",
        "from sklearn import svm\n",
        "\n",
        "from sklearn.metrics import accuracy_score\n",
        "from sklearn.metrics import classification_report"
      ],
      "execution_count": null,
      "outputs": []
    },
    {
      "cell_type": "code",
      "metadata": {
        "id": "qYYn3IddNb0L"
      },
      "source": [
        "iris = datasets.load_iris()\n",
        "X = iris.data\n",
        "y = iris.target"
      ],
      "execution_count": null,
      "outputs": []
    },
    {
      "cell_type": "code",
      "metadata": {
        "id": "tc6OrZFjNf2h"
      },
      "source": [
        "X_train, X_test, y_train, y_test = train_test_split(X, y, test_size = 0.5)"
      ],
      "execution_count": null,
      "outputs": []
    },
    {
      "cell_type": "code",
      "metadata": {
        "colab": {
          "base_uri": "https://localhost:8080/"
        },
        "id": "vwm6kdpvOCIg",
        "outputId": "c9cabab8-a137-4288-b4b0-b7f9b18ba81d"
      },
      "source": [
        "model_svm = svm.SVC(probability = True, kernel = 'linear')\n",
        "model_svm.fit(X_train, y_train)"
      ],
      "execution_count": null,
      "outputs": [
        {
          "output_type": "execute_result",
          "data": {
            "text/plain": [
              "SVC(C=1.0, break_ties=False, cache_size=200, class_weight=None, coef0=0.0,\n",
              "    decision_function_shape='ovr', degree=3, gamma='scale', kernel='linear',\n",
              "    max_iter=-1, probability=True, random_state=None, shrinking=True, tol=0.001,\n",
              "    verbose=False)"
            ]
          },
          "metadata": {
            "tags": []
          },
          "execution_count": 41
        }
      ]
    },
    {
      "cell_type": "code",
      "metadata": {
        "colab": {
          "base_uri": "https://localhost:8080/"
        },
        "id": "aRBcaadaL48D",
        "outputId": "4ee978f7-a03e-4f85-b87e-e60a0c0a0d51"
      },
      "source": [
        "y_test"
      ],
      "execution_count": null,
      "outputs": [
        {
          "output_type": "execute_result",
          "data": {
            "text/plain": [
              "array([1, 0, 0, 0, 0, 1, 0, 1, 2, 0, 2, 1, 1, 0, 1, 2, 2, 1, 2, 2, 0, 0,\n",
              "       2, 2, 0, 1, 2, 1, 0, 0, 2, 1, 1, 0, 2, 2, 1, 2, 1, 0, 0, 2, 0, 1,\n",
              "       1, 2, 1, 2, 1, 1, 2, 1, 2, 1, 0, 2, 0, 2, 0, 0, 0, 1, 2, 0, 2, 0,\n",
              "       2, 2, 0, 0, 0, 2, 1, 0, 2])"
            ]
          },
          "metadata": {
            "tags": []
          },
          "execution_count": 42
        }
      ]
    },
    {
      "cell_type": "code",
      "metadata": {
        "id": "lUurA7k7LtN-",
        "colab": {
          "base_uri": "https://localhost:8080/"
        },
        "outputId": "5b7faadf-ffe2-4ab8-e3bb-1f746a6637f8"
      },
      "source": [
        "model_svm.predict_proba(X_test)"
      ],
      "execution_count": null,
      "outputs": [
        {
          "output_type": "execute_result",
          "data": {
            "text/plain": [
              "array([[1.58134555e-02, 9.71495664e-01, 1.26908808e-02],\n",
              "       [9.39305888e-01, 4.12382360e-02, 1.94558756e-02],\n",
              "       [9.60650041e-01, 2.55977316e-02, 1.37522272e-02],\n",
              "       [9.41714441e-01, 3.86962919e-02, 1.95892666e-02],\n",
              "       [9.46914073e-01, 3.55793910e-02, 1.75065360e-02],\n",
              "       [1.19616984e-02, 9.01804989e-01, 8.62333128e-02],\n",
              "       [9.14481210e-01, 6.16268858e-02, 2.38919043e-02],\n",
              "       [8.48683018e-03, 9.21070652e-01, 7.04425175e-02],\n",
              "       [9.16224727e-03, 6.58158915e-02, 9.25021861e-01],\n",
              "       [9.16741485e-01, 5.88385486e-02, 2.44199666e-02],\n",
              "       [1.06039730e-02, 1.57944597e-02, 9.73601567e-01],\n",
              "       [1.29413023e-02, 9.05398533e-01, 8.16601647e-02],\n",
              "       [5.45158677e-02, 9.30894244e-01, 1.45898885e-02],\n",
              "       [9.48203087e-01, 3.49438997e-02, 1.68530134e-02],\n",
              "       [2.24313106e-02, 9.60563990e-01, 1.70046995e-02],\n",
              "       [6.37203908e-03, 6.72923887e-02, 9.26335572e-01],\n",
              "       [1.09678936e-02, 1.84568525e-01, 8.04463582e-01],\n",
              "       [1.99670347e-02, 9.64782310e-01, 1.52506550e-02],\n",
              "       [1.74944114e-02, 8.77631728e-03, 9.73729271e-01],\n",
              "       [1.71277587e-02, 3.64696006e-02, 9.46402641e-01],\n",
              "       [9.28612305e-01, 5.06032164e-02, 2.07844787e-02],\n",
              "       [9.29352559e-01, 5.00470378e-02, 2.06004033e-02],\n",
              "       [1.41533546e-02, 4.26986082e-02, 9.43148037e-01],\n",
              "       [2.16324629e-02, 5.77237210e-02, 9.20643816e-01],\n",
              "       [9.49856123e-01, 3.29201561e-02, 1.72237210e-02],\n",
              "       [1.21807638e-02, 8.81729505e-01, 1.06089731e-01],\n",
              "       [6.61100975e-03, 5.70412299e-03, 9.87684867e-01],\n",
              "       [1.99498524e-02, 6.41956490e-01, 3.38093657e-01],\n",
              "       [9.10425778e-01, 6.33803568e-02, 2.61938653e-02],\n",
              "       [9.32013699e-01, 4.54405562e-02, 2.25457447e-02],\n",
              "       [1.11759816e-02, 1.06342371e-02, 9.78189781e-01],\n",
              "       [1.89114322e-02, 9.43149860e-01, 3.79387078e-02],\n",
              "       [1.88709411e-02, 4.84647639e-01, 4.96481420e-01],\n",
              "       [9.17232462e-01, 5.85691723e-02, 2.41983655e-02],\n",
              "       [2.33063565e-02, 2.89191513e-01, 6.87502131e-01],\n",
              "       [1.38456334e-02, 8.83824476e-02, 8.97771919e-01],\n",
              "       [1.55698507e-02, 9.41846478e-01, 4.25836708e-02],\n",
              "       [1.35104967e-02, 4.33223810e-02, 9.43167122e-01],\n",
              "       [7.81178234e-03, 9.61302697e-01, 3.08855209e-02],\n",
              "       [9.43256492e-01, 3.76911115e-02, 1.90523967e-02],\n",
              "       [8.83860235e-01, 8.41491690e-02, 3.19905965e-02],\n",
              "       [1.08688093e-02, 8.93401975e-03, 9.80197171e-01],\n",
              "       [9.41877579e-01, 3.97190090e-02, 1.84034122e-02],\n",
              "       [1.28167935e-02, 9.36048243e-01, 5.11349630e-02],\n",
              "       [6.52877759e-02, 9.19081265e-01, 1.56309596e-02],\n",
              "       [1.58501846e-02, 8.79939143e-02, 8.96155901e-01],\n",
              "       [1.05214720e-02, 8.63797111e-01, 1.25681417e-01],\n",
              "       [1.05722496e-02, 6.87345938e-03, 9.82554291e-01],\n",
              "       [9.63854981e-03, 8.88764855e-01, 1.01596596e-01],\n",
              "       [2.41392654e-02, 9.62736925e-01, 1.31238093e-02],\n",
              "       [1.74921464e-03, 1.07180074e-04, 9.98143605e-01],\n",
              "       [1.00145443e-02, 9.19127118e-01, 7.08583380e-02],\n",
              "       [2.18294515e-02, 3.00743191e-02, 9.48096229e-01],\n",
              "       [7.70994813e-03, 9.35651686e-01, 5.66383654e-02],\n",
              "       [9.58286994e-01, 2.77236772e-02, 1.39893283e-02],\n",
              "       [2.98264785e-03, 1.40837125e-03, 9.95608981e-01],\n",
              "       [9.31494604e-01, 4.70389769e-02, 2.14664191e-02],\n",
              "       [1.20629163e-02, 3.65781954e-02, 9.51358888e-01],\n",
              "       [9.49754831e-01, 3.31931045e-02, 1.70520640e-02],\n",
              "       [9.48546693e-01, 3.40853461e-02, 1.73679613e-02],\n",
              "       [9.42710770e-01, 3.93462229e-02, 1.79430066e-02],\n",
              "       [2.11024797e-02, 9.67646425e-01, 1.12510950e-02],\n",
              "       [2.20361308e-02, 1.87071151e-01, 7.90892718e-01],\n",
              "       [9.64252587e-01, 2.20746154e-02, 1.36727976e-02],\n",
              "       [9.68634130e-03, 6.42758258e-03, 9.83886076e-01],\n",
              "       [8.99241636e-01, 7.03033865e-02, 3.04549776e-02],\n",
              "       [3.91941751e-03, 6.96340454e-03, 9.89117178e-01],\n",
              "       [6.16822764e-03, 6.17623820e-03, 9.87655534e-01],\n",
              "       [9.50881184e-01, 3.25435379e-02, 1.65752778e-02],\n",
              "       [9.70903891e-01, 1.67438867e-02, 1.23522226e-02],\n",
              "       [9.75929341e-01, 1.41836708e-02, 9.88698776e-03],\n",
              "       [1.85389998e-02, 4.84090792e-02, 9.33051921e-01],\n",
              "       [1.13348641e-02, 9.75552424e-01, 1.31127120e-02],\n",
              "       [9.77139222e-01, 1.29607283e-02, 9.90004925e-03],\n",
              "       [2.04897602e-02, 2.61432316e-01, 7.18077924e-01]])"
            ]
          },
          "metadata": {
            "tags": []
          },
          "execution_count": 43
        }
      ]
    },
    {
      "cell_type": "code",
      "metadata": {
        "id": "Njug_CjFPiEQ"
      },
      "source": [
        "svm_predictions = model_svm.predict_proba(X_test)\n",
        "svm_prob_l = []\n",
        "for i, j in zip(svm_predictions, y_test):\n",
        "  svm_prob_l.append(i[j])"
      ],
      "execution_count": null,
      "outputs": []
    },
    {
      "cell_type": "code",
      "metadata": {
        "colab": {
          "base_uri": "https://localhost:8080/"
        },
        "id": "aCXR49OuMUkI",
        "outputId": "16934971-5a7d-4fce-97a7-dc646ac00daa"
      },
      "source": [
        "len(svm_prob_l)"
      ],
      "execution_count": null,
      "outputs": [
        {
          "output_type": "execute_result",
          "data": {
            "text/plain": [
              "75"
            ]
          },
          "metadata": {
            "tags": []
          },
          "execution_count": 64
        }
      ]
    },
    {
      "cell_type": "code",
      "metadata": {
        "colab": {
          "base_uri": "https://localhost:8080/",
          "height": 369
        },
        "id": "2jFvsoDtxbrt",
        "outputId": "9e4035fc-c330-4bac-dab2-32a4a4ebe4ce"
      },
      "source": [
        "sns.displot(x = svm_prob_l, hue = ['svm'] * len(svm_prob_l), kind = \"kde\", fill = True)"
      ],
      "execution_count": null,
      "outputs": [
        {
          "output_type": "execute_result",
          "data": {
            "text/plain": [
              "<seaborn.axisgrid.FacetGrid at 0x7f18c3730590>"
            ]
          },
          "metadata": {
            "tags": []
          },
          "execution_count": 46
        },
        {
          "output_type": "display_data",
          "data": {
            "image/png": "[encoded data removed]",
            "text/plain": [
              "<Figure size 453.9x360 with 1 Axes>"
            ]
          },
          "metadata": {
            "tags": []
          }
        }
      ]
    },
    {
      "cell_type": "code",
      "metadata": {
        "colab": {
          "base_uri": "https://localhost:8080/"
        },
        "id": "mSFggN5sTt2f",
        "outputId": "5a30544c-ecb2-495c-e5bb-7d835c165d93"
      },
      "source": [
        "model_tree = RandomForestClassifier(max_depth = 3)\n",
        "model_tree.fit(X_train, y_train)"
      ],
      "execution_count": null,
      "outputs": [
        {
          "output_type": "execute_result",
          "data": {
            "text/plain": [
              "RandomForestClassifier(bootstrap=True, ccp_alpha=0.0, class_weight=None,\n",
              "                       criterion='gini', max_depth=3, max_features='auto',\n",
              "                       max_leaf_nodes=None, max_samples=None,\n",
              "                       min_impurity_decrease=0.0, min_impurity_split=None,\n",
              "                       min_samples_leaf=1, min_samples_split=2,\n",
              "                       min_weight_fraction_leaf=0.0, n_estimators=100,\n",
              "                       n_jobs=None, oob_score=False, random_state=None,\n",
              "                       verbose=0, warm_start=False)"
            ]
          },
          "metadata": {
            "tags": []
          },
          "execution_count": 47
        }
      ]
    },
    {
      "cell_type": "code",
      "metadata": {
        "id": "mXaKwfJTe9jX"
      },
      "source": [
        "tree_predictions = model_tree.predict_proba(X_test)\n",
        "tree_prob_l = []\n",
        "for i, j in zip(tree_predictions, y_test):\n",
        "  tree_prob_l.append(i[j])"
      ],
      "execution_count": null,
      "outputs": []
    },
    {
      "cell_type": "code",
      "metadata": {
        "id": "jxzZb2AEltYx",
        "colab": {
          "base_uri": "https://localhost:8080/"
        },
        "outputId": "b34d8887-047e-43e5-9740-fd3d73098868"
      },
      "source": [
        "!pip install catboost\n",
        "from catboost import Pool, CatBoostClassifier"
      ],
      "execution_count": null,
      "outputs": [
        {
          "output_type": "stream",
          "text": [
            "Requirement already satisfied: catboost in /usr/local/lib/python3.7/dist-packages (0.24.4)\n",
            "Requirement already satisfied: scipy in /usr/local/lib/python3.7/dist-packages (from catboost) (1.4.1)\n",
            "Requirement already satisfied: six in /usr/local/lib/python3.7/dist-packages (from catboost) (1.15.0)\n",
            "Requirement already satisfied: pandas>=0.24.0 in /usr/local/lib/python3.7/dist-packages (from catboost) (1.1.5)\n",
            "Requirement already satisfied: plotly in /usr/local/lib/python3.7/dist-packages (from catboost) (4.4.1)\n",
            "Requirement already satisfied: numpy>=1.16.0 in /usr/local/lib/python3.7/dist-packages (from catboost) (1.19.5)\n",
            "Requirement already satisfied: graphviz in /usr/local/lib/python3.7/dist-packages (from catboost) (0.10.1)\n",
            "Requirement already satisfied: matplotlib in /usr/local/lib/python3.7/dist-packages (from catboost) (3.2.2)\n",
            "Requirement already satisfied: python-dateutil>=2.7.3 in /usr/local/lib/python3.7/dist-packages (from pandas>=0.24.0->catboost) (2.8.1)\n",
            "Requirement already satisfied: pytz>=2017.2 in /usr/local/lib/python3.7/dist-packages (from pandas>=0.24.0->catboost) (2018.9)\n",
            "Requirement already satisfied: retrying>=1.3.3 in /usr/local/lib/python3.7/dist-packages (from plotly->catboost) (1.3.3)\n",
            "Requirement already satisfied: kiwisolver>=1.0.1 in /usr/local/lib/python3.7/dist-packages (from matplotlib->catboost) (1.3.1)\n",
            "Requirement already satisfied: cycler>=0.10 in /usr/local/lib/python3.7/dist-packages (from matplotlib->catboost) (0.10.0)\n",
            "Requirement already satisfied: pyparsing!=2.0.4,!=2.1.2,!=2.1.6,>=2.0.1 in /usr/local/lib/python3.7/dist-packages (from matplotlib->catboost) (2.4.7)\n"
          ],
          "name": "stdout"
        }
      ]
    },
    {
      "cell_type": "code",
      "metadata": {
        "id": "WVYIzA23ltd9",
        "colab": {
          "base_uri": "https://localhost:8080/"
        },
        "outputId": "a4f7e05b-a839-42ee-d95d-049213762eb4"
      },
      "source": [
        "model_catboost = CatBoostClassifier(verbose = False)\n",
        "model_catboost.fit(X_train, y_train)"
      ],
      "execution_count": null,
      "outputs": [
        {
          "output_type": "execute_result",
          "data": {
            "text/plain": [
              "<catboost.core.CatBoostClassifier at 0x7f18c36b17d0>"
            ]
          },
          "metadata": {
            "tags": []
          },
          "execution_count": 50
        }
      ]
    },
    {
      "cell_type": "code",
      "metadata": {
        "id": "N4kMJQWTltiI"
      },
      "source": [
        "catboost_predictions = model_catboost.predict_proba(X_test)\n",
        "catboost_prob_l = []\n",
        "for i, j in zip(catboost_predictions, y_test):\n",
        "  catboost_prob_l.append(i[j])"
      ],
      "execution_count": null,
      "outputs": []
    },
    {
      "cell_type": "code",
      "metadata": {
        "id": "ieL8Mlg2fY5u"
      },
      "source": [
        "prob_all = svm_prob_l + tree_prob_l + catboost_prob_l\n",
        "n = len(svm_prob_l)\n",
        "name_all = ['svm'] * n + ['tree'] * n + ['catboost'] * n"
      ],
      "execution_count": null,
      "outputs": []
    },
    {
      "cell_type": "code",
      "metadata": {
        "colab": {
          "base_uri": "https://localhost:8080/",
          "height": 602
        },
        "id": "tBTi6r5pf5rt",
        "outputId": "ebb01f71-ded5-494e-93ca-1a7eb9c7b1f5"
      },
      "source": [
        "sns.set_theme(style = \"whitegrid\")\n",
        "sns.set(font_scale = 1.5)\n",
        "f, ax = plt.subplots(figsize=(15, 10))\n",
        "ax = sns.boxplot(x = name_all, y = prob_all)"
      ],
      "execution_count": null,
      "outputs": [
        {
          "output_type": "display_data",
          "data": {
            "image/png": "[encoded data removed]",
            "text/plain": [
              "<Figure size 1080x720 with 1 Axes>"
            ]
          },
          "metadata": {
            "tags": []
          }
        }
      ]
    },
    {
      "cell_type": "code",
      "metadata": {
        "colab": {
          "base_uri": "https://localhost:8080/",
          "height": 369
        },
        "id": "YotqThLTjV2I",
        "outputId": "b309b828-f43d-403e-d0b0-37b57f620391"
      },
      "source": [
        "sns.displot(x = prob_all, hue = name_all, kind = \"kde\", fill = True)"
      ],
      "execution_count": null,
      "outputs": [
        {
          "output_type": "execute_result",
          "data": {
            "text/plain": [
              "<seaborn.axisgrid.FacetGrid at 0x7f18c36b9f10>"
            ]
          },
          "metadata": {
            "tags": []
          },
          "execution_count": 54
        },
        {
          "output_type": "display_data",
          "data": {
            "image/png": "[encoded data removed]",
            "text/plain": [
              "<Figure size 490.65x360 with 1 Axes>"
            ]
          },
          "metadata": {
            "tags": []
          }
        }
      ]
    },
    {
      "cell_type": "code",
      "metadata": {
        "id": "qzimZ9_6hZgF"
      },
      "source": [
        "from scipy import stats"
      ],
      "execution_count": null,
      "outputs": []
    },
    {
      "cell_type": "code",
      "metadata": {
        "colab": {
          "base_uri": "https://localhost:8080/"
        },
        "id": "G96XTNwp0Euj",
        "outputId": "33eeaf9f-cc8d-44a3-f078-d71749b4dc48"
      },
      "source": [
        "stats.wilcoxon(svm_prob_l, tree_prob_l, alternative = 'less').pvalue"
      ],
      "execution_count": null,
      "outputs": [
        {
          "output_type": "execute_result",
          "data": {
            "text/plain": [
              "0.0005013164347126709"
            ]
          },
          "metadata": {
            "tags": []
          },
          "execution_count": 56
        }
      ]
    },
    {
      "cell_type": "code",
      "metadata": {
        "colab": {
          "base_uri": "https://localhost:8080/"
        },
        "id": "CRyurjBI0Exj",
        "outputId": "3da11af9-8b54-479c-de0c-8d8e5ae18dde"
      },
      "source": [
        "stats.wilcoxon(tree_prob_l, catboost_prob_l, alternative = 'less').pvalue"
      ],
      "execution_count": null,
      "outputs": [
        {
          "output_type": "execute_result",
          "data": {
            "text/plain": [
              "1.3008399945368258e-10"
            ]
          },
          "metadata": {
            "tags": []
          },
          "execution_count": 58
        }
      ]
    },
    {
      "cell_type": "code",
      "metadata": {
        "colab": {
          "base_uri": "https://localhost:8080/"
        },
        "id": "Srs8CIbI0E9p",
        "outputId": "85118ccf-ff51-442f-c5a3-bdc2804c10b5"
      },
      "source": [
        "stats.wilcoxon(svm_prob_l, catboost_prob_l, alternative = 'less').pvalue"
      ],
      "execution_count": null,
      "outputs": [
        {
          "output_type": "execute_result",
          "data": {
            "text/plain": [
              "6.87695118455979e-13"
            ]
          },
          "metadata": {
            "tags": []
          },
          "execution_count": 59
        }
      ]
    },
    {
      "cell_type": "code",
      "metadata": {
        "colab": {
          "base_uri": "https://localhost:8080/"
        },
        "id": "ZzdSIQBY2ViU",
        "outputId": "84d7801c-4b24-4457-f7ec-11e833a33e43"
      },
      "source": [
        "0.05 / 3 # у всех сравнений p-value меньше чем 0.016(6), значит результаты статистически значимы svm < tree < catboost"
      ],
      "execution_count": null,
      "outputs": [
        {
          "output_type": "execute_result",
          "data": {
            "text/plain": [
              "0.016666666666666666"
            ]
          },
          "metadata": {
            "tags": []
          },
          "execution_count": 60
        }
      ]
    },
    {
      "cell_type": "code",
      "metadata": {
        "id": "OE3lWNG12Vlc"
      },
      "source": [],
      "execution_count": null,
      "outputs": []
    },
    {
      "cell_type": "code",
      "metadata": {
        "colab": {
          "base_uri": "https://localhost:8080/"
        },
        "id": "CsO1ha9ahZ5s",
        "outputId": "0fa4c701-bd7f-463f-f71f-6d3cb7107de6"
      },
      "source": [
        "stats.mannwhitneyu(svm_prob_l, tree_prob_l, alternative = 'less').pvalue"
      ],
      "execution_count": null,
      "outputs": [
        {
          "output_type": "execute_result",
          "data": {
            "text/plain": [
              "0.0004072068560401364"
            ]
          },
          "metadata": {
            "tags": []
          },
          "execution_count": 61
        }
      ]
    },
    {
      "cell_type": "code",
      "metadata": {
        "colab": {
          "base_uri": "https://localhost:8080/"
        },
        "id": "lQxrLAwIh9Xb",
        "outputId": "66b19e3f-68c4-4127-da70-fbc92342a279"
      },
      "source": [
        "stats.mannwhitneyu(tree_prob_l, catboost_prob_l, alternative = 'less').pvalue"
      ],
      "execution_count": null,
      "outputs": [
        {
          "output_type": "execute_result",
          "data": {
            "text/plain": [
              "3.6339604598654355e-07"
            ]
          },
          "metadata": {
            "tags": []
          },
          "execution_count": 62
        }
      ]
    },
    {
      "cell_type": "code",
      "metadata": {
        "colab": {
          "base_uri": "https://localhost:8080/"
        },
        "id": "wy-Twc9WkHhM",
        "outputId": "f3c11179-6120-434a-9ccd-78b31d3cfbaa"
      },
      "source": [
        "stats.mannwhitneyu(svm_prob_l, catboost_prob_l, alternative = 'less').pvalue"
      ],
      "execution_count": null,
      "outputs": [
        {
          "output_type": "execute_result",
          "data": {
            "text/plain": [
              "1.160138753588269e-20"
            ]
          },
          "metadata": {
            "tags": []
          },
          "execution_count": 63
        }
      ]
    }
  ]
}